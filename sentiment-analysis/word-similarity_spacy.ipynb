{
 "cells": [
  {
   "cell_type": "code",
   "execution_count": 1,
   "metadata": {
    "collapsed": false
   },
   "outputs": [],
   "source": [
    "# Download spacy & model\n",
    "# see: https://spacy.io/docs/usage/\n",
    "\n",
    "#conda install spacy\n",
    "#python -m spacy download en"
   ]
  },
  {
   "cell_type": "code",
   "execution_count": 2,
   "metadata": {
    "collapsed": true
   },
   "outputs": [],
   "source": [
    "import spacy\n",
    "import numpy as np\n",
    "\n",
    "nlp = spacy.load('en')"
   ]
  },
  {
   "cell_type": "markdown",
   "metadata": {},
   "source": [
    "The default English model installs vectors for one million vocabulary entries, using the 300-dimensional vectors trained on the Common Crawl corpus using the GloVe algorithm. The GloVe common crawl vectors have become a de facto standard for practical NLP."
   ]
  },
  {
   "cell_type": "code",
   "execution_count": 3,
   "metadata": {
    "collapsed": false
   },
   "outputs": [
    {
     "data": {
      "text/plain": [
       "0.59745814413524079"
      ]
     },
     "execution_count": 3,
     "metadata": {},
     "output_type": "execute_result"
    }
   ],
   "source": [
    "emotion = nlp(u'happy')\n",
    "word = nlp(u'smile')\n",
    "\n",
    "word.similarity(emotion)"
   ]
  },
  {
   "cell_type": "code",
   "execution_count": 4,
   "metadata": {
    "collapsed": false,
    "scrolled": true
   },
   "outputs": [
    {
     "name": "stdout",
     "output_type": "stream",
     "text": [
      "Unknown - sunshine\n",
      "happy - 0.325382734323 sun\n",
      "happy - 0.299066882966 shine\n",
      "sad - 0.329860494824 murder\n",
      "sad - 0.247688632473 murders\n"
     ]
    }
   ],
   "source": [
    "emotions = [u'happy', u'sad']\n",
    "emotions = [nlp(e) for e in emotions]\n",
    "\n",
    "doc = u'sunshine sun shine murder murders'\n",
    "\n",
    "doc = nlp(doc)\n",
    "\n",
    "# Which emotion\n",
    "for word in doc:\n",
    "    scores = [e.similarity(word) for e in emotions]\n",
    "    idx = np.argmax(scores)\n",
    "    \n",
    "    top_score = scores[idx]\n",
    "    top_emotion = emotions[idx]\n",
    "    if top_score==0:\n",
    "        print(\"Unknown -\", word)\n",
    "    else:\n",
    "        print(top_emotion, \"-\", top_score, word)"
   ]
  }
 ],
 "metadata": {
  "kernelspec": {
   "display_name": "Python 3",
   "language": "python",
   "name": "python3"
  },
  "language_info": {
   "codemirror_mode": {
    "name": "ipython",
    "version": 3
   },
   "file_extension": ".py",
   "mimetype": "text/x-python",
   "name": "python",
   "nbconvert_exporter": "python",
   "pygments_lexer": "ipython3",
   "version": "3.6.1"
  }
 },
 "nbformat": 4,
 "nbformat_minor": 2
}
